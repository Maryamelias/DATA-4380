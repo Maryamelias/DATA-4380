{
 "cells": [
  {
   "cell_type": "markdown",
   "id": "8588b4b3",
   "metadata": {},
   "source": [
    "# Unix Shell\n",
    "\n",
    "There is a lot that can be done on the Unix shell command prompt. For homework, we will do some useful manipulations of CSV files.\n",
    "\n",
    "There is plenty of material online that will help you figure out how to do various tasks on the command line. Some example resources I found by googling:\n",
    "\n",
    "* Paths and Wildcards: https://www.warp.dev/terminus/linux-wildcards\n",
    "* General introduction to shell: https://github-pages.ucl.ac.uk/RCPSTrainingMaterials/HPCandHTCusingLegion/2_intro_to_shell.html\n",
    "* Manual pages: https://www.geeksforgeeks.org/linux-man-page-entries-different-types/?ref=ml_lbp\n",
    "* Chaining commands: https://www.geeksforgeeks.org/chaining-commands-in-linux/?ref=ml_lbp\n",
    "* Piping: https://www.geeksforgeeks.org/piping-in-unix-or-linux/\n",
    "* Using sed: https://www.geeksforgeeks.org/sed-command-linux-set-2/?ref=ml_lbp\n",
    "* Various Unix commands: https://www.geeksforgeeks.org/linux-commands/?ref=lbp\n",
    "* Cheat sheets:\n",
    "    * https://www.stationx.net/unix-commands-cheat-sheet/\n",
    "    * https://cheatography.com/davechild/cheat-sheets/linux-command-line/\n",
    "    * https://www.theknowledgeacademy.com/blog/unix-commands-cheat-sheet/\n",
    "    \n",
    "3These aren't necessarily the best resources. Feel free to search for better ones. Also, don't forget that Unix has built-in manual pages for all of its commands. Just type `man <command>` at the command prompt. Use the space-bar to scroll through the documentation and \"q\" to exit."
   ]
  },
  {
   "cell_type": "markdown",
   "id": "32fa496c-7f87-4f94-af1d-bbcc05bdaa33",
   "metadata": {},
   "source": [
    "## Homework\n",
    "\n",
    "Perform all of these tasks on the Unix command prompt. Some may require several commands. Many will require chaining commands together. Once you figure out how to perform the task, copy paste the command(s) here.  \n",
    "\n",
    "1. After unziping the Kaggle CSV files, make a new directory for the original zip files, and move the files there. In case you accidentally mess up one of the CSV files, you'll be able unzip the data again. \n",
    "\n",
    "Hint: use `mkdir` and `mv` commands with appropriate wildcards."
   ]
  },
  {
   "cell_type": "code",
   "execution_count": null,
   "id": "dee91175-40d6-43f6-bd52-ff332a1d24ae",
   "metadata": {},
   "outputs": [],
   "source": [
    "# Creating the directory and moving the org file there\n",
    "mkdir data  \n",
    "mv *.cvs data/"
   ]
  },
  {
   "cell_type": "markdown",
   "id": "50eb55d1-7766-4101-8cb8-3ea7904a72ba",
   "metadata": {},
   "source": [
    "2. The \"diabetes_prediction_dataset.csv\" file has a lot of entries. Create 3 new CSV files, each with about 1/3 of the data.\n",
    "\n",
    "Hints: \n",
    "* Use `head` to get first line.  \n",
    "* First create 3 files with just the first line by redirecting output of `head` into a file using `>`.\n",
    "* Use `wc` to count the number of entries\n",
    "* Chain/pipe `head` and `tail` to select specific lines, redirecting output to append to the 3 files you created using `>>`."
   ]
  },
  {
   "cell_type": "code",
   "execution_count": null,
   "id": "4c231af6-bdcc-40e9-b442-6f7c41462659",
   "metadata": {},
   "outputs": [],
   "source": [
    "# Step 1: Creating the files\r\n",
    "head -n 1 diabetes_prediction_dataset.csv >header1.csv\r\n",
    "head -n 1 diabetes_prediction_dataset.csv diabetes_header2.2.csv\r\n",
    "head -n 1 diabetes_prediction_dataset.csvdiabetes_head3le3.csv\r\n",
    "\r\n",
    "# Step 2: ing ount the number of entries\r\n",
    "total_lines=$(wc -l < diabetes_prediction_dataset.csv)\r\n",
    "\r\n",
    "# Step 3: Calculate approximately 1/3 of the total lines\r\n",
    "one_third_lines=$((total_lines / 3))\r\n",
    "\r\n",
    "# Step 4: Append the next one-third of the lines to each file\r\n",
    "tail -n +2 diabetes_prediction_dataset.csv | head -n $one_thiheadernes >> file1.csv\r\n",
    "tail -n +$((one_third_lines + 2)) diabetes_prediction_dataset.csv | head -n $one_thdiabetes_header2ines >> file2.csv\r\n",
    "tail -n +$((2 * one_third_lines + 2)) diabetes_prediction_diabetes_head2et.c >> file3.csv\r\n"
   ]
  },
  {
   "cell_type": "markdown",
   "id": "166d6336-29e5-4cb4-bfde-bba3c03aa925",
   "metadata": {},
   "source": [
    "3. Create 2 new CSV files from `Heart_Disease_Prediction.csv`, one containing rows with \"Presence\" label and another with \"Absence\" label. Make sure that the first line of each file contains the field names. \n",
    "\n",
    "Hints: \n",
    "* Use `head` to get first line.  \n",
    "* First create 2 files with just the first line by redirecting output of `head` into a file using `>`.\n",
    "* Use `grep` to select lines that contain \"Absence\" or \"Presence\" and append the output to the appropriate file created in the previous step.\n"
   ]
  },
  {
   "cell_type": "code",
   "execution_count": null,
   "id": "2b650127-cfb6-4fc5-b898-e02b07865891",
   "metadata": {},
   "outputs": [],
   "source": [
    "# Step 1: Creating the files\n",
    "head Heart_Disease_Prediction.csv\n",
    "head -n 1 Heart_Disease_Prediction.csv > HDisease_head1.csv\n",
    "head -n 1 Heart_Disease_Prediction.csv > HDisease_head2.csv\n",
    "\n",
    "# Step 2:selecting lines with \"Presence\" label and append to new file\n",
    "grep \"Presence\" Heart_Disease_Prediction.csv >> HDisease_head1.csv\n",
    "\n",
    "# Step 3:selecting lines with \"Absence\" label and append to new file\n",
    "grep \"Absence\" Heart_Disease_Prediction.csv >> HDisease_head2.csv"
   ]
  },
  {
   "cell_type": "markdown",
   "id": "f7a67fe6-5bab-4343-a428-6da23a18adf9",
   "metadata": {},
   "source": [
    "4. What fraction of cars in `car_web_scraped_dataset.csv` have had no accidents?\n",
    "\n",
    "Hints:\n",
    "* Use `grep` to select the appropriate lines.\n",
    "* Pipe the output of grep into `wc` (using `|`) to count the lines.\n"
   ]
  },
  {
   "cell_type": "code",
   "execution_count": null,
   "id": "29617cbb-7c52-4082-bac6-e3b6fa4ecf21",
   "metadata": {},
   "outputs": [],
   "source": [
    "# checking for the columns of the dataset\n",
    "head car_web_scaraped_dataset.csv\n",
    "# Selecting lines from the 'No accidents reported' label, pipe, and outputing to count lines\n",
    "grep \"No accidents reported\" car_web_scraped_dataset.csv | wc -1"
   ]
  },
  {
   "cell_type": "markdown",
   "id": "e7da7601-7668-4b6c-afaa-4a78da869dc3",
   "metadata": {},
   "source": [
    "5. Make the following replacements in `Housing.csv`, output the result into a new CSV:\n",
    "\n",
    "* yes -> 1\n",
    "* no -> 0\n",
    "* unfurnished -> 0\n",
    "* furnished -> 1\n",
    "* semi-furnished -> 2\n",
    "    \n",
    "Hints:\n",
    "* Use `sed` to do the replacement.\n",
    "* Use pipes to chain multiple `sed` commands.\n",
    "* To avoid replacing \"unfurnished\" or \"semi-furnished\" when performing the \"furnished\" replacement, try replacing \",furnished\" with \",1\"."
   ]
  },
  {
   "cell_type": "code",
   "execution_count": null,
   "id": "d7950573-28a2-4987-82e4-94a88be688d2",
   "metadata": {},
   "outputs": [],
   "source": [
    "sed 's/yes/1/g' Housing.csv | \\\n",
    "sed 's/no/0/g' | \\\n",
    "sed 's/,furnished/,1/g' | \\\n",
    "sed 's/furnished/1/g' | \\\n",
    "sed 's/unfurnished/0/g' | \\\n",
    "sed 's/semi-furnished/2/g' > New_Housing.csv"
   ]
  },
  {
   "cell_type": "markdown",
   "id": "d46f0542-d0a2-4499-9e9b-f836d09a540f",
   "metadata": {},
   "source": [
    "6. Create a new CSV files from `Mall_Customers`, removing \"CustomerID\" column.\n",
    "\n",
    "Hints:\n",
    "* Use `cut` command\n",
    "* Default separator for `cut` is the space character. For CSV, you have to use option `-d ','`."
   ]
  },
  {
   "cell_type": "code",
   "execution_count": null,
   "id": "6848777b-8a7c-43ce-bb94-b098928886e1",
   "metadata": {},
   "outputs": [],
   "source": [
    "#Removing the 'CustomerID\" column\n",
    "cut -d ',' -f 2- Mall_Customers.csv > Mall_Customers_no_ID.csv"
   ]
  },
  {
   "cell_type": "markdown",
   "id": "e44e5f5d-513c-4651-a86a-7751f6d5e50e",
   "metadata": {},
   "source": [
    "7. Create a new file that contains the sum of the following fields for each row:\n",
    "    * Research Quality Score\n",
    "    * Industry Score\n",
    "    * International Outlook\n",
    "    * Research Environment Score\n",
    "    \n",
    "Hints:\n",
    "* Use `cut` to select the correct columns.\n",
    "* Use `tr` to replace ',' with '+'.\n",
    "* Pipe output into `bc` to compute the sum."
   ]
  },
  {
   "cell_type": "code",
   "execution_count": null,
   "id": "6873e220-dad3-4ae9-8b75-e43d02e4d17f",
   "metadata": {},
   "outputs": [],
   "source": [
    "cut -f 5,6,7,8 -d ',' \"world all university rank and rank score.csv\" | tr -s ',' '+'  | bc > sum_of_scores.csv"
   ]
  },
  {
   "cell_type": "markdown",
   "id": "d09b7523-226e-43ac-8397-8c9f55419af2",
   "metadata": {},
   "source": [
    "8. Sort the \"cancer patient data sets.csv\" file by age. Make sure the output is a readable CSV file.\n",
    "\n",
    "Hints:\n",
    "* Use sort with `-n`, `-t`, and `-k` options. "
   ]
  },
  {
   "cell_type": "code",
   "execution_count": null,
   "id": "08a9d77d-9535-4ba8-891a-695ab26d3445",
   "metadata": {},
   "outputs": [],
   "source": [
    "# sorting\n",
    "sort -t ',' -k2 -n \"cancer\\patient\\data\\sets.csv\" > sorted_cancer_patient_data.csv"
   ]
  },
  {
   "cell_type": "code",
   "execution_count": null,
   "id": "f79f54e9-ecf3-4adf-8965-3386bb9009ee",
   "metadata": {},
   "outputs": [],
   "source": []
  }
 ],
 "metadata": {
  "kernelspec": {
   "display_name": "Python 3 (ipykernel)",
   "language": "python",
   "name": "python3"
  },
  "language_info": {
   "codemirror_mode": {
    "name": "ipython",
    "version": 3
   },
   "file_extension": ".py",
   "mimetype": "text/x-python",
   "name": "python",
   "nbconvert_exporter": "python",
   "pygments_lexer": "ipython3",
   "version": "3.10.12"
  }
 },
 "nbformat": 4,
 "nbformat_minor": 5
}
